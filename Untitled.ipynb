{
  "nbformat": 4,
  "nbformat_minor": 0,
  "metadata": {
    "colab": {
      "name": "Untitled",
      "private_outputs": true,
      "provenance": [],
      "authorship_tag": "ABX9TyMANOan5hHmzOhJUBKaU8o4",
      "include_colab_link": true
    },
    "kernelspec": {
      "name": "python3",
      "display_name": "Python 3"
    }
  },
  "cells": [
    {
      "cell_type": "markdown",
      "metadata": {
        "id": "view-in-github",
        "colab_type": "text"
      },
      "source": [
        "<a href=\"https://colab.research.google.com/github/gusanans218/AI/blob/main/Untitled.ipynb\" target=\"_parent\"><img src=\"https://colab.research.google.com/assets/colab-badge.svg\" alt=\"Open In Colab\"/></a>"
      ]
    },
    {
      "cell_type": "code",
      "metadata": {
        "id": "cGl11kLWX_jn"
      },
      "source": [
        "import json\n",
        "\n",
        "# Libs to deal with tabular data\n",
        "import numpy as np\n",
        "import pandas as pd\n",
        "pd.options.mode.chained_assignment = None\n",
        "# import geopandas as gpd\n",
        "\n",
        "import seaborn as sns\n",
        "import matplotlib.pyplot as plt\n",
        "\n",
        "import folium\n",
        "from folium import Choropleth, Circle, Marker\n",
        "# from folium.plugins import HeartMap, MarkerCluster\n",
        "\n",
        "from IPython.display import display, Markdown\n",
        "\n",
        "stations = pd.read_csv('/content/Measurement_station_info.csv')\n",
        "measurements = pd.read_csv('/content/Measurement_info.csv')\n",
        "items = pd.read_csv('/content/Measurement_item_info.csv')\n",
        "\n",
        "with open('/content/seoul_municipalities_geo_simple.json', 'r') as file:\n",
        "    district_borders = json.loads(file.read())\n",
        "\n",
        "    print('Shape:', items.shape)\n",
        "items\n",
        "\n",
        "items.dtypes\n",
        "\n",
        "items['Item name (unit)'] = items['Item name'] + ' (' + items['Unit of measurement'].str.lower() + ')'\n",
        "\n",
        "# Creating a dict of item codes to item names.\n",
        "items_dict = {row['Item code']: row['Item name (unit)'] for idx, row in items.iterrows()}\n",
        "\n",
        "def evaluation_generator(good, normal, bad, vbad):\n",
        "    def measurement_evaluator(value):\n",
        "        if(pd.isnull(value) or value < 0):\n",
        "            return np.nan\n",
        "        elif(value <= good):\n",
        "            return 'Good'\n",
        "        elif(value <= normal):\n",
        "            return 'Normal'\n",
        "        elif(value <= bad):\n",
        "            return 'Bad'\n",
        "        else:\n",
        "            return 'Very bad'\n",
        "        \n",
        "    return measurement_evaluator\n",
        "\n",
        "    evaluators ={\n",
        "        row['Item name(unit)']: evaluation_generator(row['Good(Blue)'], row['Normal(Green)'], row['Bad(Yellow)'], row['Very bad(Red)'])\n",
        "        for idx, row in items.iterrows()\n",
        "    }\n",
        "\n",
        "    print('Shape: ', stations.shape)\n",
        "    stations.head()\n",
        "\n",
        "print('Shape:', measures.shape);\n",
        "measures.head()"
      ],
      "execution_count": null,
      "outputs": []
    }
  ]
}