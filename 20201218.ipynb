{
  "nbformat": 4,
  "nbformat_minor": 0,
  "metadata": {
    "colab": {
      "name": "20201218.pynb",
      "private_outputs": true,
      "provenance": [],
      "collapsed_sections": [],
      "authorship_tag": "ABX9TyOKup8XbS0B0hPV1M6NDkyA",
      "include_colab_link": true
    },
    "kernelspec": {
      "name": "python3",
      "display_name": "Python 3"
    }
  },
  "cells": [
    {
      "cell_type": "markdown",
      "metadata": {
        "id": "view-in-github",
        "colab_type": "text"
      },
      "source": [
        "<a href=\"https://colab.research.google.com/github/gusanans218/AI/blob/main/20201218.ipynb\" target=\"_parent\"><img src=\"https://colab.research.google.com/assets/colab-badge.svg\" alt=\"Open In Colab\"/></a>"
      ]
    },
    {
      "cell_type": "code",
      "metadata": {
        "id": "FWt58CQrksRP"
      },
      "source": [
        "import numpy as np\r\n",
        "\r\n",
        "# x 값과 y값\r\n",
        "x=[2, 4, 6, 8]\r\n",
        "y=[81, 93, 91, 97]\r\n",
        "\r\n",
        "# x와 y의 평균값\r\n",
        "mx = np.mean(x)\r\n",
        "my = np.mean(y)\r\n",
        "print(\"x의 평균값:\", mx)\r\n",
        "print(\"y의 평균값:\", my)\r\n",
        "\r\n",
        "# 기울기 공식의 분모\r\n",
        "divisor = sum([(mx - i)**2 for i in x])\r\n",
        "\r\n",
        "# 기울기 공식의 분자\r\n",
        "def top(x, mx, y, my):\r\n",
        "    d = 0\r\n",
        "    for i in range(len(x)):\r\n",
        "        d += (x[i] - mx) * (y[i] - my)\r\n",
        "    return d\r\n",
        "dividend = top(x, mx, y, my)\r\n",
        "\r\n",
        "print(\"분모:\", divisor)\r\n",
        "print(\"분자:\", dividend)\r\n",
        "\r\n",
        "# 기울기와 y 절편 구하기\r\n",
        "a = dividend / divisor\r\n",
        "b = my - (mx*a)\r\n",
        "\r\n",
        "# 출력으로 확인\r\n",
        "print(\"기울기 a =\", a)\r\n",
        "print(\"y 절편 b =\", b)"
      ],
      "execution_count": null,
      "outputs": []
    },
    {
      "cell_type": "code",
      "metadata": {
        "id": "7XXGQz6jn_xH"
      },
      "source": [
        "import numpy as np\r\n",
        "fake_a_b = [3,76]\r\n",
        "\r\n",
        "data=[[2,81],[4,93],[6,91],[8,97]]\r\n",
        "x=[i[0] for i in data]\r\n",
        "y=[i[1] for i in data]\r\n",
        "\r\n",
        "def predict(x):\r\n",
        "    return fake_a_b[0]*x + fake_a_b[1]\r\n",
        "\r\n",
        "def mse(y, y_hat):\r\n",
        "    return((y - y_hat)** 2).mean()\r\n",
        "\r\n",
        "def mse_val(predict_result,y):\r\n",
        "    return mse(np.array(predict_result),np.array(y))\r\n",
        "\r\n",
        "predict_result = []\r\n",
        "\r\n",
        "for i in range(len(x)):\r\n",
        "    predict_result.append(predict(x[i]))\r\n",
        "    print(\"공부시간 = %.f, 실제점수=%.f, 예측점수=%.f\" %(x[i], y[i],predict(x[i])))\r\n",
        "\r\n",
        "print(\"MSE 최종값 : \"+str(mse_val(predict_result,y)))"
      ],
      "execution_count": null,
      "outputs": []
    }
  ]
}